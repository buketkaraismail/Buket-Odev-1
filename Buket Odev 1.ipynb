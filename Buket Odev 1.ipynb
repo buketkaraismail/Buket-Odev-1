{
 "metadata": {
  "name": "",
  "signature": "sha256:37bc0082c7f0f1403aaf4e756fa968299e9f0c6de311c7a1a61f60dc4d623411"
 },
 "nbformat": 3,
 "nbformat_minor": 0,
 "worksheets": [
  {
   "cells": [
    {
     "cell_type": "code",
     "collapsed": false,
     "input": [
      "print\"'+' i\u015flecinin g\u00f6revi toplamad\u0131r.\"\n",
      "5+4+80+56\n"
     ],
     "language": "python",
     "metadata": {},
     "outputs": [
      {
       "output_type": "stream",
       "stream": "stdout",
       "text": [
        "'+' i\u015flecinin g\u00f6revi toplamad\u0131r.\n"
       ]
      },
      {
       "metadata": {},
       "output_type": "pyout",
       "prompt_number": 5,
       "text": [
        "145"
       ]
      }
     ],
     "prompt_number": 5
    },
    {
     "cell_type": "code",
     "collapsed": false,
     "input": [
      "print \"De\u011fi\u015fken kullanarak da '+' i\u015flecinden faydalanabiliriz\"\n",
      "a=30\n",
      "b=40\n",
      "c=35\n",
      "print a+b+c"
     ],
     "language": "python",
     "metadata": {},
     "outputs": [
      {
       "output_type": "stream",
       "stream": "stdout",
       "text": [
        "De\u011fi\u015fken kullanarak da '+' i\u015flecinden faydalanabiliriz\n",
        "105\n"
       ]
      }
     ],
     "prompt_number": 3
    },
    {
     "cell_type": "code",
     "collapsed": false,
     "input": [
      "print\"'-' i\u015flecinin g\u00f6revi \u00e7\u0131karmakt\u0131r.\"\n",
      "20-5-30"
     ],
     "language": "python",
     "metadata": {},
     "outputs": [
      {
       "output_type": "stream",
       "stream": "stdout",
       "text": [
        "'-' i\u015flecinin g\u00f6revi \u00e7\u0131karmakt\u0131r.\n"
       ]
      },
      {
       "metadata": {},
       "output_type": "pyout",
       "prompt_number": 6,
       "text": [
        "-15"
       ]
      }
     ],
     "prompt_number": 6
    },
    {
     "cell_type": "code",
     "collapsed": false,
     "input": [
      "print\"De\u011fi\u015fken kullanarak da '-' i\u015flecinden faydalanabiliriz\"\n",
      "a=30\n",
      "b=20\n",
      "c=40\n",
      "print a-b-c"
     ],
     "language": "python",
     "metadata": {},
     "outputs": [
      {
       "output_type": "stream",
       "stream": "stdout",
       "text": [
        "De\u011fi\u015fken kullanarak da '-' i\u015flecinden faydalanabiliriz\n",
        "-30\n"
       ]
      }
     ],
     "prompt_number": 7
    },
    {
     "cell_type": "code",
     "collapsed": false,
     "input": [
      "print\"'/' i\u015flecinin g\u00f6revi b\u00f6lmektir.\"\n",
      "30/10"
     ],
     "language": "python",
     "metadata": {},
     "outputs": [
      {
       "output_type": "stream",
       "stream": "stdout",
       "text": [
        "'/' i\u015flecinin g\u00f6revi b\u00f6lmektir.\n"
       ]
      },
      {
       "metadata": {},
       "output_type": "pyout",
       "prompt_number": 8,
       "text": [
        "3"
       ]
      }
     ],
     "prompt_number": 8
    },
    {
     "cell_type": "code",
     "collapsed": false,
     "input": [
      "print\"'De\u011fi\u015fkenler kullanarak da '/' i\u015flecinden faydalanabiliriz.\"\n",
      "a=30\n",
      "b=10\n",
      "print a/b"
     ],
     "language": "python",
     "metadata": {},
     "outputs": [
      {
       "output_type": "stream",
       "stream": "stdout",
       "text": [
        "'De\u011fi\u015fkenler kullanarak da '/' i\u015flecinden faydalanabiliriz.\n",
        "3\n"
       ]
      }
     ],
     "prompt_number": 9
    },
    {
     "cell_type": "code",
     "collapsed": false,
     "input": [
      "print\"Ama birazdan g\u00f6sterece\u011fim tam b\u00f6l\u00fcnmeyen i\u015flemde hata olacakt\u0131r bunun nedenini bir sonraki h\u00fccrede anlatavca\u011f\u0131m.\n",
      "20/3"
     ],
     "language": "python",
     "metadata": {},
     "outputs": [
      {
       "ename": "SyntaxError",
       "evalue": "EOL while scanning string literal (<ipython-input-10-6866b121b5b4>, line 1)",
       "output_type": "pyerr",
       "traceback": [
        "\u001b[1;36m  File \u001b[1;32m\"<ipython-input-10-6866b121b5b4>\"\u001b[1;36m, line \u001b[1;32m1\u001b[0m\n\u001b[1;33m    print\"Ama birazdan g\u00f6sterece\u011fim tam b\u00f6l\u00fcnmeyen i\u015flemde hata olacakt\u0131r bunun nedenini bir sonraki h\u00fccrede anlatavca\u011f\u0131m.\u001b[0m\n\u001b[1;37m                                                                                                                          \n^\u001b[0m\n\u001b[1;31mSyntaxError\u001b[0m\u001b[1;31m:\u001b[0m EOL while scanning string literal\n"
       ]
      }
     ],
     "prompt_number": 10
    },
    {
     "cell_type": "code",
     "collapsed": false,
     "input": [
      "print\"G\u00f6rd\u00fc\u011f\u00fcn\u00fcz gibi hata verdi bunun nedeni tam olarak bu iki say\u0131n\u0131n b\u00f6l\u00fcnememesidir.Bunun iki \u00e7\u00f6z\u00fcm\u00fc vard\u0131r:\"\n",
      "float(20)/3 #1.\u00e7\u00f6z\u00fcm float ile:float burada floating numbers yani kayan noktal\u0131 say\u0131 anlam\u0131na gelir k\u0131saca 20.0 a d\u00f6n\u00fc\u015fm\u00fc\u015ft\u00fcr art\u0131k 20 say\u0131s\u0131\n"
     ],
     "language": "python",
     "metadata": {},
     "outputs": [
      {
       "output_type": "stream",
       "stream": "stdout",
       "text": [
        "G\u00f6rd\u00fc\u011f\u00fcn\u00fcz gibi hata verdi bunun nedeni tam olarak bu iki say\u0131n\u0131n b\u00f6l\u00fcnememesidir.Bunun iki \u00e7\u00f6z\u00fcm\u00fc vard\u0131r:\n"
       ]
      },
      {
       "metadata": {},
       "output_type": "pyout",
       "prompt_number": 12,
       "text": [
        "6.666666666666667"
       ]
      }
     ],
     "prompt_number": 12
    },
    {
     "cell_type": "code",
     "collapsed": false,
     "input": [
      "20/3.0 #burada da float kullanmadan floating numbers yapm\u0131\u015f oluruz k\u0131saca ikisi de ayn\u0131 sonuca \u00e7\u0131kar"
     ],
     "language": "python",
     "metadata": {},
     "outputs": [
      {
       "metadata": {},
       "output_type": "pyout",
       "prompt_number": 13,
       "text": [
        "6.666666666666667"
       ]
      }
     ],
     "prompt_number": 13
    },
    {
     "cell_type": "code",
     "collapsed": false,
     "input": [
      "print\"De\u011fi\u015fkenlerle tam b\u00f6l\u00fcnmeyen say\u0131lar\u0131 yapmak:\"\n",
      "a=30\n",
      "b=4\n",
      "print float(a)/b"
     ],
     "language": "python",
     "metadata": {},
     "outputs": [
      {
       "output_type": "stream",
       "stream": "stdout",
       "text": [
        "De\u011fi\u015fkenlerle tam b\u00f6l\u00fcnmeyen say\u0131lar\u0131 yapmak:\n",
        "7.5\n"
       ]
      }
     ],
     "prompt_number": 14
    },
    {
     "cell_type": "code",
     "collapsed": false,
     "input": [
      "print\"'*' i\u015fleci \u00e7arpma g\u00f6revini yapar.\"\n",
      "5*4\n"
     ],
     "language": "python",
     "metadata": {},
     "outputs": [
      {
       "output_type": "stream",
       "stream": "stdout",
       "text": [
        "'*' i\u015fleci \u00e7arpma g\u00f6revini yapar.\n"
       ]
      },
      {
       "metadata": {},
       "output_type": "pyout",
       "prompt_number": 15,
       "text": [
        "20"
       ]
      }
     ],
     "prompt_number": 15
    },
    {
     "cell_type": "code",
     "collapsed": false,
     "input": [
      "print\"De\u011fi\u015fkenler kullanarak da '*' i\u015flecini kullanabiliriz.\"\n",
      "a=30\n",
      "b=40\n",
      "print a*b"
     ],
     "language": "python",
     "metadata": {},
     "outputs": [
      {
       "output_type": "stream",
       "stream": "stdout",
       "text": [
        "De\u011fi\u015fkenler kullanarak da '*' i\u015flecini kullanabiliriz.\n",
        "1200\n"
       ]
      }
     ],
     "prompt_number": 16
    },
    {
     "cell_type": "code",
     "collapsed": false,
     "input": [
      "print\"floating numberslar kullan\u0131larak da \u00e7arpma,b\u00f6lme,toplama,\u00e7\u0131karma i\u015flemi yapabiliriz.\"\n",
      "a=4.5\n",
      "b=2\n",
      "print a+b\n",
      "print b-a\n",
      "print a/b\n",
      "print b*a"
     ],
     "language": "python",
     "metadata": {},
     "outputs": [
      {
       "output_type": "stream",
       "stream": "stdout",
       "text": [
        "floating numberslar kullan\u0131larak da \u00e7arpma,b\u00f6lme,toplama,\u00e7\u0131karma i\u015flemi yapabiliriz.\n",
        "6.5\n",
        "-2.5\n",
        "2.25\n",
        "9.0\n"
       ]
      }
     ],
     "prompt_number": 17
    },
    {
     "cell_type": "code",
     "collapsed": false,
     "input": [
      "print\"\"\"\u00d6\u011frendi\u011fimiz b\u00fct\u00fcn i\u015fle\u00e7lerden faydalanarak kar\u0131\u015f\u0131k i\u015flemlerde yapabiliriz ama i\u015flem s\u0131ras\u0131na dikkat\n",
      "etmeliyiz ve iste\u011fimize g\u00f6re parantez koymal\u0131y\u0131z.\"\"\"\n",
      "20+36-30 #\u015eimdilik bir \u00f6ncelik olmad\u0131\u011f\u0131 i\u00e7in python soldan ba\u015flar\n"
     ],
     "language": "python",
     "metadata": {},
     "outputs": [
      {
       "output_type": "stream",
       "stream": "stdout",
       "text": [
        "\u00d6\u011frendi\u011fimiz b\u00fct\u00fcn i\u015fle\u00e7lerden faydalanarak kar\u0131\u015f\u0131k i\u015flemlerde yapabiliriz ama i\u015flem s\u0131ras\u0131na dikkat\n",
        "etmeliyiz ve iste\u011fimize g\u00f6re parantez koymal\u0131y\u0131z.\n"
       ]
      },
      {
       "metadata": {},
       "output_type": "pyout",
       "prompt_number": 20,
       "text": [
        "26"
       ]
      }
     ],
     "prompt_number": 20
    },
    {
     "cell_type": "code",
     "collapsed": false,
     "input": [
      "a=20*4-2 #Burada i\u015flem \u00f6nceli\u011fi oldu\u011fu i\u00e7in ilk \u00e7arpar sonra \u00e7\u0131kar\u0131r e\u011fer siz ilk \u00e7\u0131kars\u0131n istediyseniz onu parantez i\u00e7ine almal\u0131yd\u0131n\u0131z.\n",
      "print a\n",
      "b=20*(4-2) #B\u00f6yle yaparak \u00f6nceli\u011fi parantez i\u00e7ine vermi\u015f olursunuz ve istedi\u011finiz sonuca ula\u015f\u0131rs\u0131n\u0131z.\n",
      "print b"
     ],
     "language": "python",
     "metadata": {},
     "outputs": [
      {
       "output_type": "stream",
       "stream": "stdout",
       "text": [
        "78\n",
        "40\n"
       ]
      }
     ],
     "prompt_number": 22
    },
    {
     "cell_type": "code",
     "collapsed": false,
     "input": [
      "print\"Bir tane daha \u00f6ncelikli i\u015flem yapal\u0131m.\"\n",
      "a=2+6/4.0*3\n",
      "print a\n",
      "b=((2+6)/4.0)*4\n",
      "print b\n",
      "c=(2+6)/(4.0*4)\n",
      "print c"
     ],
     "language": "python",
     "metadata": {},
     "outputs": [
      {
       "output_type": "stream",
       "stream": "stdout",
       "text": [
        "Bir tane daha \u00f6ncelikli i\u015flem yapal\u0131m.\n",
        "6.5\n",
        "8.0\n",
        "0.5\n"
       ]
      }
     ],
     "prompt_number": 30
    },
    {
     "cell_type": "code",
     "collapsed": false,
     "input": [
      "print \"'**' i\u015flecide \u00fcs almaya yarayan i\u015fle\u00e7tir.\"\n",
      "2**2 #** \u00fcs al\u0131yor demi\u015ftik yani bu 2 \u00fcss\u00fc 2'nin ta kendisidir."
     ],
     "language": "python",
     "metadata": {},
     "outputs": [
      {
       "output_type": "stream",
       "stream": "stdout",
       "text": [
        "'**' i\u015flecide \u00fcs almaya yarayan i\u015fle\u00e7tir.\n"
       ]
      },
      {
       "metadata": {},
       "output_type": "pyout",
       "prompt_number": 31,
       "text": [
        "4"
       ]
      }
     ],
     "prompt_number": 31
    },
    {
     "cell_type": "code",
     "collapsed": false,
     "input": [
      "2**(10-4)#g\u00f6r\u00fcld\u00fc\u011f\u00fc ilk parantez \u00e7\u00f6z\u00fclerek \u00fcst belirlenir ve bu da 2 \u00fcss\u00fc 6'ya e\u015fit olur"
     ],
     "language": "python",
     "metadata": {},
     "outputs": [
      {
       "metadata": {},
       "output_type": "pyout",
       "prompt_number": 32,
       "text": [
        "64"
       ]
      }
     ],
     "prompt_number": 32
    },
    {
     "cell_type": "code",
     "collapsed": false,
     "input": [
      "print\"'%' i\u015fleci bize tam b\u00f6l\u00fcnmeyen say\u0131lardaki kalan\u0131 verir.\u00d6rneklerden daha iyi anlayabilirsiniz.\"\n",
      "4%3 # 4/3 normalde 1 dir kalan ise 4-3 den 1 kal\u0131r i\u015fte mod\u00fcl\u00fcs dedi\u011fimiz bu i\u015fle\u00e7 buna yarar\""
     ],
     "language": "python",
     "metadata": {},
     "outputs": [
      {
       "output_type": "stream",
       "stream": "stdout",
       "text": [
        "'%' i\u015fleci bize tam b\u00f6l\u00fcnmeyen say\u0131lardaki kalan\u0131 verir.\u00d6rneklerden daha iyi anlayabilirsiniz.\n"
       ]
      },
      {
       "metadata": {},
       "output_type": "pyout",
       "prompt_number": 33,
       "text": [
        "1"
       ]
      }
     ],
     "prompt_number": 33
    },
    {
     "cell_type": "code",
     "collapsed": false,
     "input": [
      "5%5 #5 say\u0131s\u0131 5 e tam b\u00f6l\u00fcnd\u00fc\u011f\u00fcnden kalan 0 d\u0131r yani hi\u00e7 kalan yoktur."
     ],
     "language": "python",
     "metadata": {},
     "outputs": [
      {
       "metadata": {},
       "output_type": "pyout",
       "prompt_number": 34,
       "text": [
        "0"
       ]
      }
     ],
     "prompt_number": 34
    },
    {
     "cell_type": "code",
     "collapsed": false,
     "input": [
      "print\"'//'i\u015fleci matematikteki kesirli b\u00f6lme olan b\u00f6lme i\u015flemlerini tam say\u0131ya d\u00f6nd\u00fcr\u00fcr.\"\n",
      "5//3 #normalde bu bir tam say\u0131 de\u011fildir ama bu i\u015fle\u00e7 onu tam say\u0131ya \u00e7evirir \u00e7\u00fcnk\u00fc bu say\u0131 ger\u00e7ekte 1.xxxxxxdir oda bunu tam say\u0131s\u0131na \u00e7evirir yani 1 e"
     ],
     "language": "python",
     "metadata": {},
     "outputs": [
      {
       "output_type": "stream",
       "stream": "stdout",
       "text": [
        "'//'i\u015fleci matematikteki kesirli b\u00f6lme olan b\u00f6lme i\u015flemlerini tam say\u0131ya d\u00f6nd\u00fcr\u00fcr.\n"
       ]
      },
      {
       "metadata": {},
       "output_type": "pyout",
       "prompt_number": 37,
       "text": [
        "1"
       ]
      }
     ],
     "prompt_number": 37
    },
    {
     "cell_type": "code",
     "collapsed": false,
     "input": [
      "300//11 #Mesela bu da \u00f6yle bir say\u0131d\u0131r tam b\u00f6lmez yani kesirlidir.Bu da onu tam say\u0131s\u0131na yuvarlar "
     ],
     "language": "python",
     "metadata": {},
     "outputs": [
      {
       "metadata": {},
       "output_type": "pyout",
       "prompt_number": 39,
       "text": [
        "27"
       ]
      }
     ],
     "prompt_number": 39
    },
    {
     "cell_type": "code",
     "collapsed": false,
     "input": [
      "print\"\u015eimdi ise \u00f6devimizin son k\u0131sm\u0131na geldik:'listeler'\"\n",
      "print\"Listelerde \u015fimdi g\u00f6rece\u011fimiz \u00f6zelliklerl ilk olarak listeden eleman se\u00e7mek,ikinci olarak da eleman eklemekle ilgilidir.\"\n",
      "A= [1,2,3,4,5] #G\u00f6rd\u00fc\u011f\u00fcn\u00fcz gibi bir A k\u00fcmemiz var burdan \u015fimdi \u00f6\u011frenece\u011fimiz \u015fey 3.eleman\u0131 se\u00e7memizi sa\u011fl\u0131yor\n",
      "print A\n",
      "A[3] #Normalde 3.eleman\u0131 yani 3 \u00fc se\u00e7mesini beklersiniz ama sonu\u00e7 farkl\u0131 olacakt\u0131r.Bunu bir sonraki h\u00fccrede a\u00e7\u0131klayaca\u011f\u0131m.\n"
     ],
     "language": "python",
     "metadata": {},
     "outputs": [
      {
       "output_type": "stream",
       "stream": "stdout",
       "text": [
        "\u015eimdi ise \u00f6devimizin son k\u0131sm\u0131na geldik:'listeler'\n",
        "Listelerde \u015fimdi g\u00f6rece\u011fimiz \u00f6zelliklerl ilk olarak listeden eleman se\u00e7mek,ikinci olarak da eleman eklemekle ilgilidir.\n",
        "[1, 2, 3, 4, 5]\n"
       ]
      },
      {
       "metadata": {},
       "output_type": "pyout",
       "prompt_number": 44,
       "text": [
        "4"
       ]
      }
     ],
     "prompt_number": 44
    },
    {
     "cell_type": "code",
     "collapsed": false,
     "input": [
      "print A\n",
      "A[2] #Listelerde ba\u015flang\u0131\u00e7taki eleman bizdeki ilk elemand\u0131r biz birinci eleman deriz ama python ona 0.eleman diyerek ba\u015flar.O y\u00fczden istedi\u011finiz eleman\u0131n size g\u00f6re olan\u0131n\u0131 1 eksi\u011fini yaz\u0131n\u0131z."
     ],
     "language": "python",
     "metadata": {},
     "outputs": [
      {
       "output_type": "stream",
       "stream": "stdout",
       "text": [
        "[1, 2, 3, 4, 5]\n"
       ]
      },
      {
       "metadata": {},
       "output_type": "pyout",
       "prompt_number": 46,
       "text": [
        "3"
       ]
      }
     ],
     "prompt_number": 46
    },
    {
     "cell_type": "code",
     "collapsed": false,
     "input": [
      "A=[1,2,3,4,5,6,7,8,9,10]\n",
      "print A\n",
      "A[0] #0.eleman bizdeki 1.elemand\u0131r.\n"
     ],
     "language": "python",
     "metadata": {},
     "outputs": [
      {
       "output_type": "stream",
       "stream": "stdout",
       "text": [
        "[1, 2, 3, 4, 5, 6, 7, 8, 9, 10]\n"
       ]
      },
      {
       "metadata": {},
       "output_type": "pyout",
       "prompt_number": 54,
       "text": [
        "1"
       ]
      }
     ],
     "prompt_number": 54
    },
    {
     "cell_type": "code",
     "collapsed": false,
     "input": [
      "print A\n",
      "A[10] #10.eleman bizdeki 11.elemand\u0131r ama bu k\u00fcmede 11.eleman yoktur yani hata verir."
     ],
     "language": "python",
     "metadata": {},
     "outputs": [
      {
       "output_type": "stream",
       "stream": "stdout",
       "text": [
        "[1, 2, 3, 4, 5, 6, 7, 8, 9, 10]\n"
       ]
      },
      {
       "ename": "IndexError",
       "evalue": "list index out of range",
       "output_type": "pyerr",
       "traceback": [
        "\u001b[1;31m---------------------------------------------------------------------------\u001b[0m\n\u001b[1;31mIndexError\u001b[0m                                Traceback (most recent call last)",
        "\u001b[1;32m<ipython-input-55-75cc9555b0fc>\u001b[0m in \u001b[0;36m<module>\u001b[1;34m()\u001b[0m\n\u001b[0;32m      1\u001b[0m \u001b[1;32mprint\u001b[0m \u001b[0mA\u001b[0m\u001b[1;33m\u001b[0m\u001b[0m\n\u001b[1;32m----> 2\u001b[1;33m \u001b[0mA\u001b[0m\u001b[1;33m[\u001b[0m\u001b[1;36m10\u001b[0m\u001b[1;33m]\u001b[0m \u001b[1;31m#10.eleman bizdeki 11.elemand\u0131r ama bu k\u00fcmede 11.eleman yoktur yani hata verir.\u001b[0m\u001b[1;33m\u001b[0m\u001b[0m\n\u001b[0m",
        "\u001b[1;31mIndexError\u001b[0m: list index out of range"
       ]
      }
     ],
     "prompt_number": 55
    },
    {
     "cell_type": "code",
     "collapsed": false,
     "input": [
      "print\"\u015eimdi ise eleman eklemeyi g\u00f6rece\u011fiz.\"\n",
      "B=[1,2,3,4,5,6,7]\n",
      "print B\n",
      "B.append(8) #append ile ben 8 say\u0131s\u0131n\u0131 k\u00fcmeme eklerim ayr\u0131ca \u015fimdi diyece\u011fim \u015fey \u00e7ok \u00f6nemli appen sadece 1 tane eleman ekler\n",
      "print B"
     ],
     "language": "python",
     "metadata": {},
     "outputs": [
      {
       "output_type": "stream",
       "stream": "stdout",
       "text": [
        "\u015eimdi ise eleman eklemeyi g\u00f6rece\u011fiz.\n",
        "[1, 2, 3, 4, 5, 6, 7]\n",
        "[1, 2, 3, 4, 5, 6, 7, 8]\n"
       ]
      }
     ],
     "prompt_number": 61
    },
    {
     "cell_type": "code",
     "collapsed": false,
     "input": [],
     "language": "python",
     "metadata": {},
     "outputs": [],
     "prompt_number": 56
    },
    {
     "cell_type": "code",
     "collapsed": false,
     "input": [],
     "language": "python",
     "metadata": {},
     "outputs": []
    }
   ],
   "metadata": {}
  }
 ]
}